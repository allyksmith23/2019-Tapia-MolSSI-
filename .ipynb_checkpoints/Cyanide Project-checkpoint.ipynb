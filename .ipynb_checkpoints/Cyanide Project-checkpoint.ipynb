{
 "cells": [
  {
   "cell_type": "markdown",
   "metadata": {},
   "source": [
    "# Cyanide Project"
   ]
  },
  {
   "cell_type": "code",
   "execution_count": null,
   "metadata": {},
   "outputs": [],
   "source": [
    "#http://bromine.cchem.berkeley.edu/grppub/pes17.pdf \n",
    "#equilibrium bond length = 1.177 +/- 0.004 angstrom = 2.224 atomic unit\n",
    "#https://reader.elsevier.com/reader/sd/pii/0022190261804089?token=218E767DCEAE2909D0EDA44E277E3E69EC7BC5A167A3143F244C3AA51293CE665963EB9C65040EAD2A1E6FA1AF1D8230\n",
    "#force constant of KCN: k = 1650 kg/s^2 for terminal case; k = 1700 kg/s^2 for bridging case\n",
    "    #bridging case has higher electron density in one region due to its geometry --> higher force constant\n",
    "#https://aip.scitation.org/doi/10.1063/1.442174\n",
    "#potential energy surface of KCN (ab initio SCF calc): r(CN) = 2.186 a naught (Bohr radius) = 1.157 angstroms\n",
    "#no experimental data for vibrational energy"
   ]
  }
 ],
 "metadata": {
  "kernelspec": {
   "display_name": "Python 3",
   "language": "python",
   "name": "python3"
  },
  "language_info": {
   "codemirror_mode": {
    "name": "ipython",
    "version": 3
   },
   "file_extension": ".py",
   "mimetype": "text/x-python",
   "name": "python",
   "nbconvert_exporter": "python",
   "pygments_lexer": "ipython3",
   "version": "3.7.3"
  }
 },
 "nbformat": 4,
 "nbformat_minor": 2
}
